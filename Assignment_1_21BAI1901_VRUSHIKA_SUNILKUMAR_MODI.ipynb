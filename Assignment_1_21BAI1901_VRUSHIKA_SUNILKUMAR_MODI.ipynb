{
  "nbformat": 4,
  "nbformat_minor": 0,
  "metadata": {
    "colab": {
      "provenance": []
    },
    "kernelspec": {
      "name": "python3",
      "display_name": "Python 3"
    },
    "language_info": {
      "name": "python"
    }
  },
  "cells": [
    {
      "cell_type": "markdown",
      "source": [
        "Task - 1 Create a pandas dataframe (DataFrame name as 'df') (10 observation and 5 features)\n"
      ],
      "metadata": {
        "id": "xcyN1hOr6riG"
      }
    },
    {
      "cell_type": "code",
      "execution_count": 20,
      "metadata": {
        "colab": {
          "base_uri": "https://localhost:8080/"
        },
        "id": "uYMKgJxhvCQj",
        "outputId": "028ab71d-005e-4fcd-ba26-fc021fad887c"
      },
      "outputs": [
        {
          "output_type": "stream",
          "name": "stdout",
          "text": [
            "       Name  Age Gender  Score(from 50) Pass or Fail\n",
            "0     Aryan   20      M              45            P\n",
            "1    Madhav   25      M              49            P\n",
            "2     Sunil   30      M              40            p\n",
            "3     Krish   35      M              35            F\n",
            "4     Nirav   29      M              30            P\n",
            "5      Vraj   27      M              46            P\n",
            "6     Bhumi   26      F              42            P\n",
            "7     Sahil   27      M              43            P\n",
            "8      Neha   24      F              46            P\n",
            "9  Vaishali   23      F              39            F\n"
          ]
        }
      ],
      "source": [
        "import pandas as pd\n",
        "import numpy as np\n",
        "data = {\n",
        "    'Name': ['Aryan','Madhav','Sunil','Krish','Nirav','Vraj','Bhumi','Sahil','Neha','Vaishali'],\n",
        "    'Age': [20,25,30,35,29,27,26,27,24,23],\n",
        "    'Gender': ['M','M','M','M','M','M','F','M','F','F'],\n",
        "    'Score(from 50)': [45,49,40,35,30,46,42,43,46,39],\n",
        "    'Pass or Fail': ['P','P','p','F','P','P','P','P','P','F']\n",
        "}\n",
        "df = pd.DataFrame(data)\n",
        "print(df)"
      ]
    },
    {
      "cell_type": "markdown",
      "source": [
        "Task- 2 Check the info of 'df'"
      ],
      "metadata": {
        "id": "XrVccwAv6uuS"
      }
    },
    {
      "cell_type": "code",
      "source": [
        "df_info = df.info()\n",
        "print(df_info)"
      ],
      "metadata": {
        "colab": {
          "base_uri": "https://localhost:8080/"
        },
        "id": "LbDjUpZT6KW_",
        "outputId": "fed141cc-93bf-41e5-9b04-657ec0029ebd"
      },
      "execution_count": 19,
      "outputs": [
        {
          "output_type": "stream",
          "name": "stdout",
          "text": [
            "<class 'pandas.core.frame.DataFrame'>\n",
            "RangeIndex: 10 entries, 0 to 9\n",
            "Data columns (total 5 columns):\n",
            " #   Column          Non-Null Count  Dtype \n",
            "---  ------          --------------  ----- \n",
            " 0   Name            10 non-null     object\n",
            " 1   Age             10 non-null     int64 \n",
            " 2   Gender          10 non-null     object\n",
            " 3   Score(from 50)  10 non-null     int64 \n",
            " 4   Pass or Fail    10 non-null     object\n",
            "dtypes: int64(2), object(3)\n",
            "memory usage: 528.0+ bytes\n",
            "None\n"
          ]
        }
      ]
    },
    {
      "cell_type": "markdown",
      "source": [
        "Task 3- Check the descriptive statistics of 'df'"
      ],
      "metadata": {
        "id": "-RO1OPBs7B1o"
      }
    },
    {
      "cell_type": "code",
      "source": [
        "print(df.shape)\n",
        "df1=df.describe()\n",
        "print(df1)"
      ],
      "metadata": {
        "colab": {
          "base_uri": "https://localhost:8080/"
        },
        "id": "qRb73gGC5ziF",
        "outputId": "683a94e7-c87f-4607-eb1f-cb3f1530e8e5"
      },
      "execution_count": 14,
      "outputs": [
        {
          "output_type": "stream",
          "name": "stdout",
          "text": [
            "(10, 5)\n",
            "             Age  Score(from 50)\n",
            "count  10.000000       10.000000\n",
            "mean   26.600000       41.500000\n",
            "std     4.141927        5.720334\n",
            "min    20.000000       30.000000\n",
            "25%    24.250000       39.250000\n",
            "50%    26.500000       42.500000\n",
            "75%    28.500000       45.750000\n",
            "max    35.000000       49.000000\n"
          ]
        }
      ]
    },
    {
      "cell_type": "markdown",
      "source": [
        "Task 4- check the 4th index observation with 'loc' slicing operator."
      ],
      "metadata": {
        "id": "oH-vE2tY7Nkj"
      }
    },
    {
      "cell_type": "code",
      "source": [
        "obv_4=df.loc[4]\n",
        "print(obv_4)"
      ],
      "metadata": {
        "colab": {
          "base_uri": "https://localhost:8080/"
        },
        "id": "vNmJIrXgx9Jy",
        "outputId": "fe854403-1c6b-48ff-f52f-e53786b8467c"
      },
      "execution_count": 15,
      "outputs": [
        {
          "output_type": "stream",
          "name": "stdout",
          "text": [
            "Name              Nirav\n",
            "Age                  29\n",
            "Gender                M\n",
            "Score(from 50)       30\n",
            "Pass or Fail          P\n",
            "Name: 4, dtype: object\n"
          ]
        }
      ]
    },
    {
      "cell_type": "markdown",
      "source": [
        "Task 5 - Check the null values in your 'df'"
      ],
      "metadata": {
        "id": "2aGZXI6K7Yeo"
      }
    },
    {
      "cell_type": "code",
      "source": [
        "null_values = df.isnull()\n",
        "null_count = null_values.sum()\n",
        "print(null_count)"
      ],
      "metadata": {
        "colab": {
          "base_uri": "https://localhost:8080/"
        },
        "id": "T-CPzAZbyKas",
        "outputId": "27dc1773-0eb2-4c4b-8956-52da89cc1b3f"
      },
      "execution_count": 16,
      "outputs": [
        {
          "output_type": "stream",
          "name": "stdout",
          "text": [
            "Name              0\n",
            "Age               0\n",
            "Gender            0\n",
            "Score(from 50)    0\n",
            "Pass or Fail      0\n",
            "dtype: int64\n"
          ]
        }
      ]
    }
  ]
}